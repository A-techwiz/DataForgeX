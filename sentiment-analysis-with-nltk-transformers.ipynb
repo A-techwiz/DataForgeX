{
 "cells": [
  {
   "cell_type": "code",
   "execution_count": 1,
   "id": "9d313599",
   "metadata": {
    "_cell_guid": "b1076dfc-b9ad-4769-8c92-a6c4dae69d19",
    "_uuid": "8f2839f25d086af736a60e9eeb907d3b93b6e0e5",
    "execution": {
     "iopub.execute_input": "2023-08-13T20:53:25.651973Z",
     "iopub.status.busy": "2023-08-13T20:53:25.651420Z",
     "iopub.status.idle": "2023-08-13T20:53:25.675171Z",
     "shell.execute_reply": "2023-08-13T20:53:25.674265Z"
    },
    "papermill": {
     "duration": 0.038428,
     "end_time": "2023-08-13T20:53:25.678305",
     "exception": false,
     "start_time": "2023-08-13T20:53:25.639877",
     "status": "completed"
    },
    "tags": []
   },
   "outputs": [
    {
     "name": "stdout",
     "output_type": "stream",
     "text": [
      "/kaggle/input/amazon-product-reviews-dataset/7817_1.csv\n"
     ]
    }
   ],
   "source": [
    "# This Python 3 environment comes with many helpful analytics libraries installed\n",
    "# It is defined by the kaggle/python Docker image: https://github.com/kaggle/docker-python\n",
    "# For example, here's several helpful packages to load\n",
    "\n",
    "import numpy as np # linear algebra\n",
    "import pandas as pd # data processing, CSV file I/O (e.g. pd.read_csv)\n",
    "\n",
    "# Input data files are available in the read-only \"../input/\" directory\n",
    "# For example, running this (by clicking run or pressing Shift+Enter) will list all files under the input directory\n",
    "\n",
    "import os\n",
    "for dirname, _, filenames in os.walk('/kaggle/input'):\n",
    "    for filename in filenames:\n",
    "        print(os.path.join(dirname, filename))\n",
    "\n",
    "# You can write up to 20GB to the current directory (/kaggle/working/) that gets preserved as output when you create a version using \"Save & Run All\" \n",
    "# You can also write temporary files to /kaggle/temp/, but they won't be saved outside of the current session"
   ]
  },
  {
   "cell_type": "code",
   "execution_count": 2,
   "id": "3859af17",
   "metadata": {
    "execution": {
     "iopub.execute_input": "2023-08-13T20:53:25.700484Z",
     "iopub.status.busy": "2023-08-13T20:53:25.700065Z",
     "iopub.status.idle": "2023-08-13T20:53:28.195996Z",
     "shell.execute_reply": "2023-08-13T20:53:28.194738Z"
    },
    "papermill": {
     "duration": 2.510889,
     "end_time": "2023-08-13T20:53:28.199330",
     "exception": false,
     "start_time": "2023-08-13T20:53:25.688441",
     "status": "completed"
    },
    "tags": []
   },
   "outputs": [
    {
     "name": "stderr",
     "output_type": "stream",
     "text": [
      "/opt/conda/lib/python3.10/site-packages/scipy/__init__.py:146: UserWarning: A NumPy version >=1.16.5 and <1.23.0 is required for this version of SciPy (detected version 1.23.5\n",
      "  warnings.warn(f\"A NumPy version >={np_minversion} and <{np_maxversion}\"\n"
     ]
    }
   ],
   "source": [
    "import pandas as pd\n",
    "import numpy as np\n",
    "import matplotlib.pyplot as plt\n",
    "import seaborn as sns\n",
    "\n",
    "plt.style.use('ggplot')\n",
    "import nltk"
   ]
  },
  {
   "cell_type": "code",
   "execution_count": 3,
   "id": "60ae1e60",
   "metadata": {
    "execution": {
     "iopub.execute_input": "2023-08-13T20:53:28.221651Z",
     "iopub.status.busy": "2023-08-13T20:53:28.221224Z",
     "iopub.status.idle": "2023-08-13T20:53:28.584834Z",
     "shell.execute_reply": "2023-08-13T20:53:28.583953Z"
    },
    "papermill": {
     "duration": 0.37765,
     "end_time": "2023-08-13T20:53:28.587591",
     "exception": false,
     "start_time": "2023-08-13T20:53:28.209941",
     "status": "completed"
    },
    "tags": []
   },
   "outputs": [],
   "source": [
    "# Read the data\n",
    "\n",
    "df=pd.read_csv(\"/kaggle/input/amazon-product-reviews-dataset/7817_1.csv\")"
   ]
  },
  {
   "cell_type": "code",
   "execution_count": 4,
   "id": "53fb5904",
   "metadata": {
    "execution": {
     "iopub.execute_input": "2023-08-13T20:53:28.609915Z",
     "iopub.status.busy": "2023-08-13T20:53:28.609470Z",
     "iopub.status.idle": "2023-08-13T20:53:28.652329Z",
     "shell.execute_reply": "2023-08-13T20:53:28.651434Z"
    },
    "papermill": {
     "duration": 0.057626,
     "end_time": "2023-08-13T20:53:28.654913",
     "exception": false,
     "start_time": "2023-08-13T20:53:28.597287",
     "status": "completed"
    },
    "tags": []
   },
   "outputs": [
    {
     "data": {
      "text/html": [
       "<div>\n",
       "<style scoped>\n",
       "    .dataframe tbody tr th:only-of-type {\n",
       "        vertical-align: middle;\n",
       "    }\n",
       "\n",
       "    .dataframe tbody tr th {\n",
       "        vertical-align: top;\n",
       "    }\n",
       "\n",
       "    .dataframe thead th {\n",
       "        text-align: right;\n",
       "    }\n",
       "</style>\n",
       "<table border=\"1\" class=\"dataframe\">\n",
       "  <thead>\n",
       "    <tr style=\"text-align: right;\">\n",
       "      <th></th>\n",
       "      <th>id</th>\n",
       "      <th>asins</th>\n",
       "      <th>brand</th>\n",
       "      <th>categories</th>\n",
       "      <th>colors</th>\n",
       "      <th>dateAdded</th>\n",
       "      <th>dateUpdated</th>\n",
       "      <th>dimension</th>\n",
       "      <th>ean</th>\n",
       "      <th>keys</th>\n",
       "      <th>...</th>\n",
       "      <th>reviews.rating</th>\n",
       "      <th>reviews.sourceURLs</th>\n",
       "      <th>reviews.text</th>\n",
       "      <th>reviews.title</th>\n",
       "      <th>reviews.userCity</th>\n",
       "      <th>reviews.userProvince</th>\n",
       "      <th>reviews.username</th>\n",
       "      <th>sizes</th>\n",
       "      <th>upc</th>\n",
       "      <th>weight</th>\n",
       "    </tr>\n",
       "  </thead>\n",
       "  <tbody>\n",
       "    <tr>\n",
       "      <th>0</th>\n",
       "      <td>AVpe7AsMilAPnD_xQ78G</td>\n",
       "      <td>B00QJDU3KY</td>\n",
       "      <td>Amazon</td>\n",
       "      <td>Amazon Devices,mazon.co.uk</td>\n",
       "      <td>NaN</td>\n",
       "      <td>2016-03-08T20:21:53Z</td>\n",
       "      <td>2017-07-18T23:52:58Z</td>\n",
       "      <td>169 mm x 117 mm x 9.1 mm</td>\n",
       "      <td>NaN</td>\n",
       "      <td>kindlepaperwhite/b00qjdu3ky</td>\n",
       "      <td>...</td>\n",
       "      <td>5.0</td>\n",
       "      <td>https://www.amazon.com/Kindle-Paperwhite-High-...</td>\n",
       "      <td>I initially had trouble deciding between the p...</td>\n",
       "      <td>Paperwhite voyage, no regrets!</td>\n",
       "      <td>NaN</td>\n",
       "      <td>NaN</td>\n",
       "      <td>Cristina M</td>\n",
       "      <td>NaN</td>\n",
       "      <td>NaN</td>\n",
       "      <td>205 grams</td>\n",
       "    </tr>\n",
       "    <tr>\n",
       "      <th>1</th>\n",
       "      <td>AVpe7AsMilAPnD_xQ78G</td>\n",
       "      <td>B00QJDU3KY</td>\n",
       "      <td>Amazon</td>\n",
       "      <td>Amazon Devices,mazon.co.uk</td>\n",
       "      <td>NaN</td>\n",
       "      <td>2016-03-08T20:21:53Z</td>\n",
       "      <td>2017-07-18T23:52:58Z</td>\n",
       "      <td>169 mm x 117 mm x 9.1 mm</td>\n",
       "      <td>NaN</td>\n",
       "      <td>kindlepaperwhite/b00qjdu3ky</td>\n",
       "      <td>...</td>\n",
       "      <td>5.0</td>\n",
       "      <td>https://www.amazon.com/Kindle-Paperwhite-High-...</td>\n",
       "      <td>Allow me to preface this with a little history...</td>\n",
       "      <td>One Simply Could Not Ask For More</td>\n",
       "      <td>NaN</td>\n",
       "      <td>NaN</td>\n",
       "      <td>Ricky</td>\n",
       "      <td>NaN</td>\n",
       "      <td>NaN</td>\n",
       "      <td>205 grams</td>\n",
       "    </tr>\n",
       "    <tr>\n",
       "      <th>2</th>\n",
       "      <td>AVpe7AsMilAPnD_xQ78G</td>\n",
       "      <td>B00QJDU3KY</td>\n",
       "      <td>Amazon</td>\n",
       "      <td>Amazon Devices,mazon.co.uk</td>\n",
       "      <td>NaN</td>\n",
       "      <td>2016-03-08T20:21:53Z</td>\n",
       "      <td>2017-07-18T23:52:58Z</td>\n",
       "      <td>169 mm x 117 mm x 9.1 mm</td>\n",
       "      <td>NaN</td>\n",
       "      <td>kindlepaperwhite/b00qjdu3ky</td>\n",
       "      <td>...</td>\n",
       "      <td>4.0</td>\n",
       "      <td>https://www.amazon.com/Kindle-Paperwhite-High-...</td>\n",
       "      <td>I am enjoying it so far. Great for reading. Ha...</td>\n",
       "      <td>Great for those that just want an e-reader</td>\n",
       "      <td>NaN</td>\n",
       "      <td>NaN</td>\n",
       "      <td>Tedd Gardiner</td>\n",
       "      <td>NaN</td>\n",
       "      <td>NaN</td>\n",
       "      <td>205 grams</td>\n",
       "    </tr>\n",
       "    <tr>\n",
       "      <th>3</th>\n",
       "      <td>AVpe7AsMilAPnD_xQ78G</td>\n",
       "      <td>B00QJDU3KY</td>\n",
       "      <td>Amazon</td>\n",
       "      <td>Amazon Devices,mazon.co.uk</td>\n",
       "      <td>NaN</td>\n",
       "      <td>2016-03-08T20:21:53Z</td>\n",
       "      <td>2017-07-18T23:52:58Z</td>\n",
       "      <td>169 mm x 117 mm x 9.1 mm</td>\n",
       "      <td>NaN</td>\n",
       "      <td>kindlepaperwhite/b00qjdu3ky</td>\n",
       "      <td>...</td>\n",
       "      <td>5.0</td>\n",
       "      <td>https://www.amazon.com/Kindle-Paperwhite-High-...</td>\n",
       "      <td>I bought one of the first Paperwhites and have...</td>\n",
       "      <td>Love / Hate relationship</td>\n",
       "      <td>NaN</td>\n",
       "      <td>NaN</td>\n",
       "      <td>Dougal</td>\n",
       "      <td>NaN</td>\n",
       "      <td>NaN</td>\n",
       "      <td>205 grams</td>\n",
       "    </tr>\n",
       "    <tr>\n",
       "      <th>4</th>\n",
       "      <td>AVpe7AsMilAPnD_xQ78G</td>\n",
       "      <td>B00QJDU3KY</td>\n",
       "      <td>Amazon</td>\n",
       "      <td>Amazon Devices,mazon.co.uk</td>\n",
       "      <td>NaN</td>\n",
       "      <td>2016-03-08T20:21:53Z</td>\n",
       "      <td>2017-07-18T23:52:58Z</td>\n",
       "      <td>169 mm x 117 mm x 9.1 mm</td>\n",
       "      <td>NaN</td>\n",
       "      <td>kindlepaperwhite/b00qjdu3ky</td>\n",
       "      <td>...</td>\n",
       "      <td>5.0</td>\n",
       "      <td>https://www.amazon.com/Kindle-Paperwhite-High-...</td>\n",
       "      <td>I have to say upfront - I don't like coroporat...</td>\n",
       "      <td>I LOVE IT</td>\n",
       "      <td>NaN</td>\n",
       "      <td>NaN</td>\n",
       "      <td>Miljan David Tanic</td>\n",
       "      <td>NaN</td>\n",
       "      <td>NaN</td>\n",
       "      <td>205 grams</td>\n",
       "    </tr>\n",
       "  </tbody>\n",
       "</table>\n",
       "<p>5 rows × 27 columns</p>\n",
       "</div>"
      ],
      "text/plain": [
       "                     id       asins   brand                  categories  \\\n",
       "0  AVpe7AsMilAPnD_xQ78G  B00QJDU3KY  Amazon  Amazon Devices,mazon.co.uk   \n",
       "1  AVpe7AsMilAPnD_xQ78G  B00QJDU3KY  Amazon  Amazon Devices,mazon.co.uk   \n",
       "2  AVpe7AsMilAPnD_xQ78G  B00QJDU3KY  Amazon  Amazon Devices,mazon.co.uk   \n",
       "3  AVpe7AsMilAPnD_xQ78G  B00QJDU3KY  Amazon  Amazon Devices,mazon.co.uk   \n",
       "4  AVpe7AsMilAPnD_xQ78G  B00QJDU3KY  Amazon  Amazon Devices,mazon.co.uk   \n",
       "\n",
       "  colors             dateAdded           dateUpdated  \\\n",
       "0    NaN  2016-03-08T20:21:53Z  2017-07-18T23:52:58Z   \n",
       "1    NaN  2016-03-08T20:21:53Z  2017-07-18T23:52:58Z   \n",
       "2    NaN  2016-03-08T20:21:53Z  2017-07-18T23:52:58Z   \n",
       "3    NaN  2016-03-08T20:21:53Z  2017-07-18T23:52:58Z   \n",
       "4    NaN  2016-03-08T20:21:53Z  2017-07-18T23:52:58Z   \n",
       "\n",
       "                  dimension  ean                         keys  ...  \\\n",
       "0  169 mm x 117 mm x 9.1 mm  NaN  kindlepaperwhite/b00qjdu3ky  ...   \n",
       "1  169 mm x 117 mm x 9.1 mm  NaN  kindlepaperwhite/b00qjdu3ky  ...   \n",
       "2  169 mm x 117 mm x 9.1 mm  NaN  kindlepaperwhite/b00qjdu3ky  ...   \n",
       "3  169 mm x 117 mm x 9.1 mm  NaN  kindlepaperwhite/b00qjdu3ky  ...   \n",
       "4  169 mm x 117 mm x 9.1 mm  NaN  kindlepaperwhite/b00qjdu3ky  ...   \n",
       "\n",
       "  reviews.rating                                 reviews.sourceURLs  \\\n",
       "0            5.0  https://www.amazon.com/Kindle-Paperwhite-High-...   \n",
       "1            5.0  https://www.amazon.com/Kindle-Paperwhite-High-...   \n",
       "2            4.0  https://www.amazon.com/Kindle-Paperwhite-High-...   \n",
       "3            5.0  https://www.amazon.com/Kindle-Paperwhite-High-...   \n",
       "4            5.0  https://www.amazon.com/Kindle-Paperwhite-High-...   \n",
       "\n",
       "                                        reviews.text  \\\n",
       "0  I initially had trouble deciding between the p...   \n",
       "1  Allow me to preface this with a little history...   \n",
       "2  I am enjoying it so far. Great for reading. Ha...   \n",
       "3  I bought one of the first Paperwhites and have...   \n",
       "4  I have to say upfront - I don't like coroporat...   \n",
       "\n",
       "                                reviews.title reviews.userCity  \\\n",
       "0              Paperwhite voyage, no regrets!              NaN   \n",
       "1           One Simply Could Not Ask For More              NaN   \n",
       "2  Great for those that just want an e-reader              NaN   \n",
       "3                    Love / Hate relationship              NaN   \n",
       "4                                   I LOVE IT              NaN   \n",
       "\n",
       "  reviews.userProvince    reviews.username  sizes upc     weight  \n",
       "0                  NaN          Cristina M    NaN NaN  205 grams  \n",
       "1                  NaN               Ricky    NaN NaN  205 grams  \n",
       "2                  NaN       Tedd Gardiner    NaN NaN  205 grams  \n",
       "3                  NaN              Dougal    NaN NaN  205 grams  \n",
       "4                  NaN  Miljan David Tanic    NaN NaN  205 grams  \n",
       "\n",
       "[5 rows x 27 columns]"
      ]
     },
     "execution_count": 4,
     "metadata": {},
     "output_type": "execute_result"
    }
   ],
   "source": [
    "df.head()"
   ]
  },
  {
   "cell_type": "code",
   "execution_count": 5,
   "id": "ad336473",
   "metadata": {
    "execution": {
     "iopub.execute_input": "2023-08-13T20:53:28.676503Z",
     "iopub.status.busy": "2023-08-13T20:53:28.676096Z",
     "iopub.status.idle": "2023-08-13T20:53:28.683752Z",
     "shell.execute_reply": "2023-08-13T20:53:28.682513Z"
    },
    "papermill": {
     "duration": 0.021419,
     "end_time": "2023-08-13T20:53:28.686326",
     "exception": false,
     "start_time": "2023-08-13T20:53:28.664907",
     "status": "completed"
    },
    "tags": []
   },
   "outputs": [
    {
     "data": {
      "text/plain": [
       "\"I am enjoying it so far. Great for reading. Had the original Fire since 2012. The Fire used to make my eyes hurt if I read too long. Haven't experienced that with the Paperwhite yet.\""
      ]
     },
     "execution_count": 5,
     "metadata": {},
     "output_type": "execute_result"
    }
   ],
   "source": [
    "# Exploring the data - example review\n",
    "df[\"reviews.text\"].values[2]"
   ]
  },
  {
   "cell_type": "code",
   "execution_count": 6,
   "id": "e95a346c",
   "metadata": {
    "execution": {
     "iopub.execute_input": "2023-08-13T20:53:28.715129Z",
     "iopub.status.busy": "2023-08-13T20:53:28.714224Z",
     "iopub.status.idle": "2023-08-13T20:53:28.721293Z",
     "shell.execute_reply": "2023-08-13T20:53:28.720351Z"
    },
    "papermill": {
     "duration": 0.023888,
     "end_time": "2023-08-13T20:53:28.723538",
     "exception": false,
     "start_time": "2023-08-13T20:53:28.699650",
     "status": "completed"
    },
    "tags": []
   },
   "outputs": [
    {
     "data": {
      "text/plain": [
       "(1597, 27)"
      ]
     },
     "execution_count": 6,
     "metadata": {},
     "output_type": "execute_result"
    }
   ],
   "source": [
    "df.shape"
   ]
  },
  {
   "cell_type": "code",
   "execution_count": 7,
   "id": "d3377914",
   "metadata": {
    "execution": {
     "iopub.execute_input": "2023-08-13T20:53:28.750333Z",
     "iopub.status.busy": "2023-08-13T20:53:28.749483Z",
     "iopub.status.idle": "2023-08-13T20:53:28.756312Z",
     "shell.execute_reply": "2023-08-13T20:53:28.755404Z"
    },
    "papermill": {
     "duration": 0.021983,
     "end_time": "2023-08-13T20:53:28.758552",
     "exception": false,
     "start_time": "2023-08-13T20:53:28.736569",
     "status": "completed"
    },
    "tags": []
   },
   "outputs": [
    {
     "data": {
      "text/plain": [
       "(1597, 27)"
      ]
     },
     "execution_count": 7,
     "metadata": {},
     "output_type": "execute_result"
    }
   ],
   "source": [
    "# Downsizing the data\n",
    "df.shape"
   ]
  },
  {
   "cell_type": "code",
   "execution_count": 8,
   "id": "3d98a18b",
   "metadata": {
    "execution": {
     "iopub.execute_input": "2023-08-13T20:53:28.781387Z",
     "iopub.status.busy": "2023-08-13T20:53:28.780585Z",
     "iopub.status.idle": "2023-08-13T20:53:28.802222Z",
     "shell.execute_reply": "2023-08-13T20:53:28.801132Z"
    },
    "papermill": {
     "duration": 0.035803,
     "end_time": "2023-08-13T20:53:28.804686",
     "exception": false,
     "start_time": "2023-08-13T20:53:28.768883",
     "status": "completed"
    },
    "tags": []
   },
   "outputs": [
    {
     "data": {
      "text/plain": [
       "<bound method NDFrame.head of                         id       asins   brand  \\\n",
       "0     AVpe7AsMilAPnD_xQ78G  B00QJDU3KY  Amazon   \n",
       "1     AVpe7AsMilAPnD_xQ78G  B00QJDU3KY  Amazon   \n",
       "2     AVpe7AsMilAPnD_xQ78G  B00QJDU3KY  Amazon   \n",
       "3     AVpe7AsMilAPnD_xQ78G  B00QJDU3KY  Amazon   \n",
       "4     AVpe7AsMilAPnD_xQ78G  B00QJDU3KY  Amazon   \n",
       "...                    ...         ...     ...   \n",
       "1592  AVpfo9ukilAPnD_xfhuj  B00NO8JJZW  Amazon   \n",
       "1593  AVpfo9ukilAPnD_xfhuj  B00NO8JJZW  Amazon   \n",
       "1594  AVpfo9ukilAPnD_xfhuj  B00NO8JJZW  Amazon   \n",
       "1595  AVpfo9ukilAPnD_xfhuj  B00NO8JJZW  Amazon   \n",
       "1596  AVpfo9ukilAPnD_xfhuj  B00NO8JJZW  Amazon   \n",
       "\n",
       "                                             categories colors  \\\n",
       "0                            Amazon Devices,mazon.co.uk    NaN   \n",
       "1                            Amazon Devices,mazon.co.uk    NaN   \n",
       "2                            Amazon Devices,mazon.co.uk    NaN   \n",
       "3                            Amazon Devices,mazon.co.uk    NaN   \n",
       "4                            Amazon Devices,mazon.co.uk    NaN   \n",
       "...                                                 ...    ...   \n",
       "1592  Amazon Devices & Accessories,Amazon Device Acc...    NaN   \n",
       "1593  Amazon Devices & Accessories,Amazon Device Acc...    NaN   \n",
       "1594  Amazon Devices & Accessories,Amazon Device Acc...    NaN   \n",
       "1595  Amazon Devices & Accessories,Amazon Device Acc...    NaN   \n",
       "1596  Amazon Devices & Accessories,Amazon Device Acc...    NaN   \n",
       "\n",
       "                 dateAdded           dateUpdated                 dimension  \\\n",
       "0     2016-03-08T20:21:53Z  2017-07-18T23:52:58Z  169 mm x 117 mm x 9.1 mm   \n",
       "1     2016-03-08T20:21:53Z  2017-07-18T23:52:58Z  169 mm x 117 mm x 9.1 mm   \n",
       "2     2016-03-08T20:21:53Z  2017-07-18T23:52:58Z  169 mm x 117 mm x 9.1 mm   \n",
       "3     2016-03-08T20:21:53Z  2017-07-18T23:52:58Z  169 mm x 117 mm x 9.1 mm   \n",
       "4     2016-03-08T20:21:53Z  2017-07-18T23:52:58Z  169 mm x 117 mm x 9.1 mm   \n",
       "...                    ...                   ...                       ...   \n",
       "1592  2016-04-02T14:40:43Z  2017-08-13T08:28:46Z                       NaN   \n",
       "1593  2016-04-02T14:40:43Z  2017-08-13T08:28:46Z                       NaN   \n",
       "1594  2016-04-02T14:40:43Z  2017-08-13T08:28:46Z                       NaN   \n",
       "1595  2016-04-02T14:40:43Z  2017-08-13T08:28:46Z                       NaN   \n",
       "1596  2016-04-02T14:40:43Z  2017-08-13T08:28:46Z                       NaN   \n",
       "\n",
       "      ean                                               keys  ...  \\\n",
       "0     NaN                        kindlepaperwhite/b00qjdu3ky  ...   \n",
       "1     NaN                        kindlepaperwhite/b00qjdu3ky  ...   \n",
       "2     NaN                        kindlepaperwhite/b00qjdu3ky  ...   \n",
       "3     NaN                        kindlepaperwhite/b00qjdu3ky  ...   \n",
       "4     NaN                        kindlepaperwhite/b00qjdu3ky  ...   \n",
       "...   ...                                                ...  ...   \n",
       "1592  NaN  alexavoiceremoteforamazonfiretvfiretvstick/b00...  ...   \n",
       "1593  NaN  alexavoiceremoteforamazonfiretvfiretvstick/b00...  ...   \n",
       "1594  NaN  alexavoiceremoteforamazonfiretvfiretvstick/b00...  ...   \n",
       "1595  NaN  alexavoiceremoteforamazonfiretvfiretvstick/b00...  ...   \n",
       "1596  NaN  alexavoiceremoteforamazonfiretvfiretvstick/b00...  ...   \n",
       "\n",
       "     reviews.rating                                 reviews.sourceURLs  \\\n",
       "0               5.0  https://www.amazon.com/Kindle-Paperwhite-High-...   \n",
       "1               5.0  https://www.amazon.com/Kindle-Paperwhite-High-...   \n",
       "2               4.0  https://www.amazon.com/Kindle-Paperwhite-High-...   \n",
       "3               5.0  https://www.amazon.com/Kindle-Paperwhite-High-...   \n",
       "4               5.0  https://www.amazon.com/Kindle-Paperwhite-High-...   \n",
       "...             ...                                                ...   \n",
       "1592            3.0  https://www.amazon.com/Alexa-Voice-Remote-Amaz...   \n",
       "1593            1.0  https://www.amazon.com/Alexa-Voice-Remote-Amaz...   \n",
       "1594            1.0  https://www.amazon.com/Alexa-Voice-Remote-Amaz...   \n",
       "1595            3.0  https://www.amazon.com/Alexa-Voice-Remote-Amaz...   \n",
       "1596            1.0  https://www.amazon.com/Alexa-Voice-Remote-Amaz...   \n",
       "\n",
       "                                           reviews.text  \\\n",
       "0     I initially had trouble deciding between the p...   \n",
       "1     Allow me to preface this with a little history...   \n",
       "2     I am enjoying it so far. Great for reading. Ha...   \n",
       "3     I bought one of the first Paperwhites and have...   \n",
       "4     I have to say upfront - I don't like coroporat...   \n",
       "...                                                 ...   \n",
       "1592  This is not the same remote that I got for my ...   \n",
       "1593  I have had to change the batteries in this rem...   \n",
       "1594  Remote did not activate, nor did it connect to...   \n",
       "1595  It does the job but is super over priced. I fe...   \n",
       "1596  I ordered this item to replace the one that no...   \n",
       "\n",
       "                                          reviews.title reviews.userCity  \\\n",
       "0                        Paperwhite voyage, no regrets!              NaN   \n",
       "1                     One Simply Could Not Ask For More              NaN   \n",
       "2            Great for those that just want an e-reader              NaN   \n",
       "3                              Love / Hate relationship              NaN   \n",
       "4                                             I LOVE IT              NaN   \n",
       "...                                                 ...              ...   \n",
       "1592  I would be disappointed with myself if i produ...              NaN   \n",
       "1593                        Battery draining remote!!!!              NaN   \n",
       "1594      replacing an even worse remote. Waste of time              NaN   \n",
       "1595                                         Overpriced              NaN   \n",
       "1596  I am sending all of this crap back to amazon a...              NaN   \n",
       "\n",
       "     reviews.userProvince    reviews.username  sizes upc     weight  \n",
       "0                     NaN          Cristina M    NaN NaN  205 grams  \n",
       "1                     NaN               Ricky    NaN NaN  205 grams  \n",
       "2                     NaN       Tedd Gardiner    NaN NaN  205 grams  \n",
       "3                     NaN              Dougal    NaN NaN  205 grams  \n",
       "4                     NaN  Miljan David Tanic    NaN NaN  205 grams  \n",
       "...                   ...                 ...    ...  ..        ...  \n",
       "1592                  NaN     GregAmandawith4    NaN NaN   4 ounces  \n",
       "1593                  NaN     Amazon Customer    NaN NaN   4 ounces  \n",
       "1594                  NaN     Amazon Customer    NaN NaN   4 ounces  \n",
       "1595                  NaN          Meg Ashley    NaN NaN   4 ounces  \n",
       "1596                  NaN             DIANE K    NaN NaN   4 ounces  \n",
       "\n",
       "[1597 rows x 27 columns]>"
      ]
     },
     "execution_count": 8,
     "metadata": {},
     "output_type": "execute_result"
    }
   ],
   "source": [
    "df.head"
   ]
  },
  {
   "cell_type": "code",
   "execution_count": 9,
   "id": "cfb1b8f5",
   "metadata": {
    "execution": {
     "iopub.execute_input": "2023-08-13T20:53:28.831003Z",
     "iopub.status.busy": "2023-08-13T20:53:28.829949Z",
     "iopub.status.idle": "2023-08-13T20:53:28.847756Z",
     "shell.execute_reply": "2023-08-13T20:53:28.845408Z"
    },
    "papermill": {
     "duration": 0.035144,
     "end_time": "2023-08-13T20:53:28.851501",
     "exception": false,
     "start_time": "2023-08-13T20:53:28.816357",
     "status": "completed"
    },
    "tags": []
   },
   "outputs": [
    {
     "data": {
      "text/plain": [
       "5.0    741\n",
       "4.0    236\n",
       "3.0    124\n",
       "1.0     42\n",
       "2.0     34\n",
       "Name: reviews.rating, dtype: int64"
      ]
     },
     "execution_count": 9,
     "metadata": {},
     "output_type": "execute_result"
    }
   ],
   "source": [
    "# Quick EDA\n",
    "df['reviews.rating'].value_counts()"
   ]
  },
  {
   "cell_type": "code",
   "execution_count": 10,
   "id": "f58c6f2d",
   "metadata": {
    "execution": {
     "iopub.execute_input": "2023-08-13T20:53:28.880836Z",
     "iopub.status.busy": "2023-08-13T20:53:28.880256Z",
     "iopub.status.idle": "2023-08-13T20:53:29.249933Z",
     "shell.execute_reply": "2023-08-13T20:53:29.248639Z"
    },
    "papermill": {
     "duration": 0.385769,
     "end_time": "2023-08-13T20:53:29.252642",
     "exception": false,
     "start_time": "2023-08-13T20:53:28.866873",
     "status": "completed"
    },
    "tags": []
   },
   "outputs": [
    {
     "data": {
      "image/png": "[encoded data removed]",
      "text/plain": [
       "<Figure size 1000x500 with 1 Axes>"
      ]
     },
     "metadata": {},
     "output_type": "display_data"
    }
   ],
   "source": [
    "# We can observe that 5.0 has the highest rating. Lets create a hist for better visualisation\n",
    "ax= df['reviews.rating'].value_counts().sort_index()\\\n",
    "    .plot(kind='bar', \n",
    "    title='Count of reviews by stars',figsize=(10,5))\n",
    "ax.set_xlabel('Review Stars')\n",
    "plt.show()"
   ]
  },
  {
   "cell_type": "code",
   "execution_count": 11,
   "id": "d50d9c8a",
   "metadata": {
    "execution": {
     "iopub.execute_input": "2023-08-13T20:53:29.280576Z",
     "iopub.status.busy": "2023-08-13T20:53:29.279194Z",
     "iopub.status.idle": "2023-08-13T20:53:29.287566Z",
     "shell.execute_reply": "2023-08-13T20:53:29.286093Z"
    },
    "papermill": {
     "duration": 0.027216,
     "end_time": "2023-08-13T20:53:29.291849",
     "exception": false,
     "start_time": "2023-08-13T20:53:29.264633",
     "status": "completed"
    },
    "tags": []
   },
   "outputs": [
    {
     "name": "stdout",
     "output_type": "stream",
     "text": [
      "Like a previous reviewer mentioned it is fabric over hard plastic it is not a snug or tight fit. Good quality though.\n"
     ]
    }
   ],
   "source": [
    "# Basic NLTK\n",
    "example= df['reviews.text'][166]\n",
    "print(example)"
   ]
  },
  {
   "cell_type": "code",
   "execution_count": 12,
   "id": "e7f5bfe8",
   "metadata": {
    "execution": {
     "iopub.execute_input": "2023-08-13T20:53:29.319797Z",
     "iopub.status.busy": "2023-08-13T20:53:29.318784Z",
     "iopub.status.idle": "2023-08-13T20:53:29.346072Z",
     "shell.execute_reply": "2023-08-13T20:53:29.344764Z"
    },
    "papermill": {
     "duration": 0.045679,
     "end_time": "2023-08-13T20:53:29.349692",
     "exception": false,
     "start_time": "2023-08-13T20:53:29.304013",
     "status": "completed"
    },
    "tags": []
   },
   "outputs": [
    {
     "data": {
      "text/plain": [
       "['Like',\n",
       " 'a',\n",
       " 'previous',\n",
       " 'reviewer',\n",
       " 'mentioned',\n",
       " 'it',\n",
       " 'is',\n",
       " 'fabric',\n",
       " 'over',\n",
       " 'hard',\n",
       " 'plastic',\n",
       " 'it',\n",
       " 'is',\n",
       " 'not',\n",
       " 'a',\n",
       " 'snug',\n",
       " 'or',\n",
       " 'tight',\n",
       " 'fit']"
      ]
     },
     "execution_count": 12,
     "metadata": {},
     "output_type": "execute_result"
    }
   ],
   "source": [
    "tokens= nltk.word_tokenize(example)\n",
    "tokens[:19]"
   ]
  },
  {
   "cell_type": "code",
   "execution_count": 13,
   "id": "8a6b4489",
   "metadata": {
    "execution": {
     "iopub.execute_input": "2023-08-13T20:53:29.377090Z",
     "iopub.status.busy": "2023-08-13T20:53:29.376609Z",
     "iopub.status.idle": "2023-08-13T20:53:29.578905Z",
     "shell.execute_reply": "2023-08-13T20:53:29.577248Z"
    },
    "papermill": {
     "duration": 0.220667,
     "end_time": "2023-08-13T20:53:29.583611",
     "exception": false,
     "start_time": "2023-08-13T20:53:29.362944",
     "status": "completed"
    },
    "tags": []
   },
   "outputs": [
    {
     "data": {
      "text/plain": [
       "[('Like', 'IN'),\n",
       " ('a', 'DT'),\n",
       " ('previous', 'JJ'),\n",
       " ('reviewer', 'NN'),\n",
       " ('mentioned', 'VBD'),\n",
       " ('it', 'PRP'),\n",
       " ('is', 'VBZ'),\n",
       " ('fabric', 'JJ'),\n",
       " ('over', 'IN'),\n",
       " ('hard', 'JJ'),\n",
       " ('plastic', 'NN'),\n",
       " ('it', 'PRP'),\n",
       " ('is', 'VBZ'),\n",
       " ('not', 'RB'),\n",
       " ('a', 'DT'),\n",
       " ('snug', 'NN'),\n",
       " ('or', 'CC'),\n",
       " ('tight', 'JJ'),\n",
       " ('fit', 'NN')]"
      ]
     },
     "execution_count": 13,
     "metadata": {},
     "output_type": "execute_result"
    }
   ],
   "source": [
    "# Parts of speech tagging\n",
    "tagged=nltk.pos_tag(tokens)\n",
    "tagged[:19]"
   ]
  },
  {
   "cell_type": "code",
   "execution_count": 14,
   "id": "3c4d16e2",
   "metadata": {
    "execution": {
     "iopub.execute_input": "2023-08-13T20:53:29.611472Z",
     "iopub.status.busy": "2023-08-13T20:53:29.610985Z",
     "iopub.status.idle": "2023-08-13T20:53:29.820571Z",
     "shell.execute_reply": "2023-08-13T20:53:29.818505Z"
    },
    "papermill": {
     "duration": 0.22671,
     "end_time": "2023-08-13T20:53:29.823862",
     "exception": false,
     "start_time": "2023-08-13T20:53:29.597152",
     "status": "completed"
    },
    "tags": []
   },
   "outputs": [
    {
     "name": "stdout",
     "output_type": "stream",
     "text": [
      "(S\n",
      "  Like/IN\n",
      "  a/DT\n",
      "  previous/JJ\n",
      "  reviewer/NN\n",
      "  mentioned/VBD\n",
      "  it/PRP\n",
      "  is/VBZ\n",
      "  fabric/JJ\n",
      "  over/IN\n",
      "  hard/JJ\n",
      "  plastic/NN\n",
      "  it/PRP\n",
      "  is/VBZ\n",
      "  not/RB\n",
      "  a/DT\n",
      "  snug/NN\n",
      "  or/CC\n",
      "  tight/JJ\n",
      "  fit/NN\n",
      "  ./.\n",
      "  Good/JJ\n",
      "  quality/NN\n",
      "  though/IN\n",
      "  ./.)\n"
     ]
    }
   ],
   "source": [
    "entities=nltk.chunk.ne_chunk(tagged)\n",
    "entities.pprint()"
   ]
  },
  {
   "cell_type": "code",
   "execution_count": 15,
   "id": "40d3ed55",
   "metadata": {
    "execution": {
     "iopub.execute_input": "2023-08-13T20:53:29.851587Z",
     "iopub.status.busy": "2023-08-13T20:53:29.851025Z",
     "iopub.status.idle": "2023-08-13T20:53:29.891867Z",
     "shell.execute_reply": "2023-08-13T20:53:29.890362Z"
    },
    "papermill": {
     "duration": 0.058065,
     "end_time": "2023-08-13T20:53:29.894863",
     "exception": false,
     "start_time": "2023-08-13T20:53:29.836798",
     "status": "completed"
    },
    "tags": []
   },
   "outputs": [
    {
     "name": "stderr",
     "output_type": "stream",
     "text": [
      "/opt/conda/lib/python3.10/site-packages/nltk/twitter/__init__.py:20: UserWarning: The twython library has not been installed. Some functionality from the twitter package will not be available.\n",
      "  warnings.warn(\"The twython library has not been installed. \"\n"
     ]
    }
   ],
   "source": [
    "# VADER Sentiment Scoring\n",
    "from nltk.sentiment import SentimentIntensityAnalyzer\n",
    "from tqdm.notebook import tqdm\n",
    "\n",
    "sia= SentimentIntensityAnalyzer()"
   ]
  },
  {
   "cell_type": "code",
   "execution_count": 16,
   "id": "6ad606ad",
   "metadata": {
    "execution": {
     "iopub.execute_input": "2023-08-13T20:53:29.921346Z",
     "iopub.status.busy": "2023-08-13T20:53:29.920933Z",
     "iopub.status.idle": "2023-08-13T20:53:29.929094Z",
     "shell.execute_reply": "2023-08-13T20:53:29.927861Z"
    },
    "papermill": {
     "duration": 0.024107,
     "end_time": "2023-08-13T20:53:29.931544",
     "exception": false,
     "start_time": "2023-08-13T20:53:29.907437",
     "status": "completed"
    },
    "tags": []
   },
   "outputs": [
    {
     "data": {
      "text/plain": [
       "{'neg': 0.0, 'neu': 0.318, 'pos': 0.682, 'compound': 0.6468}"
      ]
     },
     "execution_count": 16,
     "metadata": {},
     "output_type": "execute_result"
    }
   ],
   "source": [
    "sia.polarity_scores('I am so happy!')"
   ]
  },
  {
   "cell_type": "code",
   "execution_count": 17,
   "id": "160d20f8",
   "metadata": {
    "execution": {
     "iopub.execute_input": "2023-08-13T20:53:29.957928Z",
     "iopub.status.busy": "2023-08-13T20:53:29.957384Z",
     "iopub.status.idle": "2023-08-13T20:53:29.965837Z",
     "shell.execute_reply": "2023-08-13T20:53:29.964513Z"
    },
    "papermill": {
     "duration": 0.024823,
     "end_time": "2023-08-13T20:53:29.968581",
     "exception": false,
     "start_time": "2023-08-13T20:53:29.943758",
     "status": "completed"
    },
    "tags": []
   },
   "outputs": [
    {
     "data": {
      "text/plain": [
       "{'neg': 0.451, 'neu': 0.549, 'pos': 0.0, 'compound': -0.6249}"
      ]
     },
     "execution_count": 17,
     "metadata": {},
     "output_type": "execute_result"
    }
   ],
   "source": [
    "sia.polarity_scores('This is the worst experience ever')"
   ]
  },
  {
   "cell_type": "markdown",
   "id": "4a2170c8",
   "metadata": {
    "papermill": {
     "duration": 0.012459,
     "end_time": "2023-08-13T20:53:29.993997",
     "exception": false,
     "start_time": "2023-08-13T20:53:29.981538",
     "status": "completed"
    },
    "tags": []
   },
   "source": []
  },
  {
   "cell_type": "code",
   "execution_count": 18,
   "id": "7e3264e5",
   "metadata": {
    "execution": {
     "iopub.execute_input": "2023-08-13T20:53:30.032438Z",
     "iopub.status.busy": "2023-08-13T20:53:30.031954Z",
     "iopub.status.idle": "2023-08-13T20:53:30.040967Z",
     "shell.execute_reply": "2023-08-13T20:53:30.040082Z"
    },
    "papermill": {
     "duration": 0.029289,
     "end_time": "2023-08-13T20:53:30.043294",
     "exception": false,
     "start_time": "2023-08-13T20:53:30.014005",
     "status": "completed"
    },
    "tags": []
   },
   "outputs": [
    {
     "data": {
      "text/plain": [
       "{'neg': 0.055, 'neu': 0.632, 'pos': 0.312, 'compound': 0.7579}"
      ]
     },
     "execution_count": 18,
     "metadata": {},
     "output_type": "execute_result"
    }
   ],
   "source": [
    "# Lets check the polarity score on the example\n",
    "sia.polarity_scores(example)"
   ]
  },
  {
   "cell_type": "code",
   "execution_count": 19,
   "id": "bf59b43a",
   "metadata": {
    "execution": {
     "iopub.execute_input": "2023-08-13T20:53:30.073112Z",
     "iopub.status.busy": "2023-08-13T20:53:30.072636Z",
     "iopub.status.idle": "2023-08-13T20:53:34.981070Z",
     "shell.execute_reply": "2023-08-13T20:53:34.979708Z"
    },
    "papermill": {
     "duration": 4.927149,
     "end_time": "2023-08-13T20:53:34.984238",
     "exception": false,
     "start_time": "2023-08-13T20:53:30.057089",
     "status": "completed"
    },
    "tags": []
   },
   "outputs": [
    {
     "data": {
      "application/vnd.jupyter.widget-view+json": {
       "model_id": "4bc9e97c344941189cc58232c55941fa",
       "version_major": 2,
       "version_minor": 0
      },
      "text/plain": [
       "  0%|          | 0/1597 [00:00<?, ?it/s]"
      ]
     },
     "metadata": {},
     "output_type": "display_data"
    }
   ],
   "source": [
    "# Run the polarity score on the entire dataset\n",
    "res = {}\n",
    "for i, row in tqdm(df.iterrows(), total=len(df)):\n",
    "    text=row['reviews.text']\n",
    "    myid=row['id']\n",
    "    res[myid]= sia.polarity_scores(text)\n",
    "    "
   ]
  },
  {
   "cell_type": "code",
   "execution_count": 20,
   "id": "66a6da41",
   "metadata": {
    "execution": {
     "iopub.execute_input": "2023-08-13T20:53:35.021797Z",
     "iopub.status.busy": "2023-08-13T20:53:35.021403Z",
     "iopub.status.idle": "2023-08-13T20:53:35.045751Z",
     "shell.execute_reply": "2023-08-13T20:53:35.044377Z"
    },
    "papermill": {
     "duration": 0.049096,
     "end_time": "2023-08-13T20:53:35.048568",
     "exception": false,
     "start_time": "2023-08-13T20:53:34.999472",
     "status": "completed"
    },
    "tags": []
   },
   "outputs": [],
   "source": [
    "vaders=pd.DataFrame(res).T\n",
    "vaders=vaders.reset_index().rename(columns={'index':'id'})\n",
    "vaders= vaders.merge(df, how='left')"
   ]
  },
  {
   "cell_type": "code",
   "execution_count": 21,
   "id": "6bee7206",
   "metadata": {
    "execution": {
     "iopub.execute_input": "2023-08-13T20:53:35.077204Z",
     "iopub.status.busy": "2023-08-13T20:53:35.076156Z",
     "iopub.status.idle": "2023-08-13T20:53:35.103892Z",
     "shell.execute_reply": "2023-08-13T20:53:35.103006Z"
    },
    "papermill": {
     "duration": 0.044723,
     "end_time": "2023-08-13T20:53:35.106369",
     "exception": false,
     "start_time": "2023-08-13T20:53:35.061646",
     "status": "completed"
    },
    "tags": []
   },
   "outputs": [
    {
     "data": {
      "text/html": [
       "<div>\n",
       "<style scoped>\n",
       "    .dataframe tbody tr th:only-of-type {\n",
       "        vertical-align: middle;\n",
       "    }\n",
       "\n",
       "    .dataframe tbody tr th {\n",
       "        vertical-align: top;\n",
       "    }\n",
       "\n",
       "    .dataframe thead th {\n",
       "        text-align: right;\n",
       "    }\n",
       "</style>\n",
       "<table border=\"1\" class=\"dataframe\">\n",
       "  <thead>\n",
       "    <tr style=\"text-align: right;\">\n",
       "      <th></th>\n",
       "      <th>id</th>\n",
       "      <th>neg</th>\n",
       "      <th>neu</th>\n",
       "      <th>pos</th>\n",
       "      <th>compound</th>\n",
       "      <th>asins</th>\n",
       "      <th>brand</th>\n",
       "      <th>categories</th>\n",
       "      <th>colors</th>\n",
       "      <th>dateAdded</th>\n",
       "      <th>...</th>\n",
       "      <th>reviews.rating</th>\n",
       "      <th>reviews.sourceURLs</th>\n",
       "      <th>reviews.text</th>\n",
       "      <th>reviews.title</th>\n",
       "      <th>reviews.userCity</th>\n",
       "      <th>reviews.userProvince</th>\n",
       "      <th>reviews.username</th>\n",
       "      <th>sizes</th>\n",
       "      <th>upc</th>\n",
       "      <th>weight</th>\n",
       "    </tr>\n",
       "  </thead>\n",
       "  <tbody>\n",
       "    <tr>\n",
       "      <th>0</th>\n",
       "      <td>AVpe7AsMilAPnD_xQ78G</td>\n",
       "      <td>0.0</td>\n",
       "      <td>0.773</td>\n",
       "      <td>0.227</td>\n",
       "      <td>0.8908</td>\n",
       "      <td>B00QJDU3KY</td>\n",
       "      <td>Amazon</td>\n",
       "      <td>Amazon Devices,mazon.co.uk</td>\n",
       "      <td>NaN</td>\n",
       "      <td>2016-03-08T20:21:53Z</td>\n",
       "      <td>...</td>\n",
       "      <td>5.0</td>\n",
       "      <td>https://www.amazon.com/Kindle-Paperwhite-High-...</td>\n",
       "      <td>I initially had trouble deciding between the p...</td>\n",
       "      <td>Paperwhite voyage, no regrets!</td>\n",
       "      <td>NaN</td>\n",
       "      <td>NaN</td>\n",
       "      <td>Cristina M</td>\n",
       "      <td>NaN</td>\n",
       "      <td>NaN</td>\n",
       "      <td>205 grams</td>\n",
       "    </tr>\n",
       "    <tr>\n",
       "      <th>1</th>\n",
       "      <td>AVpe7AsMilAPnD_xQ78G</td>\n",
       "      <td>0.0</td>\n",
       "      <td>0.773</td>\n",
       "      <td>0.227</td>\n",
       "      <td>0.8908</td>\n",
       "      <td>B00QJDU3KY</td>\n",
       "      <td>Amazon</td>\n",
       "      <td>Amazon Devices,mazon.co.uk</td>\n",
       "      <td>NaN</td>\n",
       "      <td>2016-03-08T20:21:53Z</td>\n",
       "      <td>...</td>\n",
       "      <td>5.0</td>\n",
       "      <td>https://www.amazon.com/Kindle-Paperwhite-High-...</td>\n",
       "      <td>Allow me to preface this with a little history...</td>\n",
       "      <td>One Simply Could Not Ask For More</td>\n",
       "      <td>NaN</td>\n",
       "      <td>NaN</td>\n",
       "      <td>Ricky</td>\n",
       "      <td>NaN</td>\n",
       "      <td>NaN</td>\n",
       "      <td>205 grams</td>\n",
       "    </tr>\n",
       "    <tr>\n",
       "      <th>2</th>\n",
       "      <td>AVpe7AsMilAPnD_xQ78G</td>\n",
       "      <td>0.0</td>\n",
       "      <td>0.773</td>\n",
       "      <td>0.227</td>\n",
       "      <td>0.8908</td>\n",
       "      <td>B00QJDU3KY</td>\n",
       "      <td>Amazon</td>\n",
       "      <td>Amazon Devices,mazon.co.uk</td>\n",
       "      <td>NaN</td>\n",
       "      <td>2016-03-08T20:21:53Z</td>\n",
       "      <td>...</td>\n",
       "      <td>4.0</td>\n",
       "      <td>https://www.amazon.com/Kindle-Paperwhite-High-...</td>\n",
       "      <td>I am enjoying it so far. Great for reading. Ha...</td>\n",
       "      <td>Great for those that just want an e-reader</td>\n",
       "      <td>NaN</td>\n",
       "      <td>NaN</td>\n",
       "      <td>Tedd Gardiner</td>\n",
       "      <td>NaN</td>\n",
       "      <td>NaN</td>\n",
       "      <td>205 grams</td>\n",
       "    </tr>\n",
       "    <tr>\n",
       "      <th>3</th>\n",
       "      <td>AVpe7AsMilAPnD_xQ78G</td>\n",
       "      <td>0.0</td>\n",
       "      <td>0.773</td>\n",
       "      <td>0.227</td>\n",
       "      <td>0.8908</td>\n",
       "      <td>B00QJDU3KY</td>\n",
       "      <td>Amazon</td>\n",
       "      <td>Amazon Devices,mazon.co.uk</td>\n",
       "      <td>NaN</td>\n",
       "      <td>2016-03-08T20:21:53Z</td>\n",
       "      <td>...</td>\n",
       "      <td>5.0</td>\n",
       "      <td>https://www.amazon.com/Kindle-Paperwhite-High-...</td>\n",
       "      <td>I bought one of the first Paperwhites and have...</td>\n",
       "      <td>Love / Hate relationship</td>\n",
       "      <td>NaN</td>\n",
       "      <td>NaN</td>\n",
       "      <td>Dougal</td>\n",
       "      <td>NaN</td>\n",
       "      <td>NaN</td>\n",
       "      <td>205 grams</td>\n",
       "    </tr>\n",
       "    <tr>\n",
       "      <th>4</th>\n",
       "      <td>AVpe7AsMilAPnD_xQ78G</td>\n",
       "      <td>0.0</td>\n",
       "      <td>0.773</td>\n",
       "      <td>0.227</td>\n",
       "      <td>0.8908</td>\n",
       "      <td>B00QJDU3KY</td>\n",
       "      <td>Amazon</td>\n",
       "      <td>Amazon Devices,mazon.co.uk</td>\n",
       "      <td>NaN</td>\n",
       "      <td>2016-03-08T20:21:53Z</td>\n",
       "      <td>...</td>\n",
       "      <td>5.0</td>\n",
       "      <td>https://www.amazon.com/Kindle-Paperwhite-High-...</td>\n",
       "      <td>I have to say upfront - I don't like coroporat...</td>\n",
       "      <td>I LOVE IT</td>\n",
       "      <td>NaN</td>\n",
       "      <td>NaN</td>\n",
       "      <td>Miljan David Tanic</td>\n",
       "      <td>NaN</td>\n",
       "      <td>NaN</td>\n",
       "      <td>205 grams</td>\n",
       "    </tr>\n",
       "  </tbody>\n",
       "</table>\n",
       "<p>5 rows × 31 columns</p>\n",
       "</div>"
      ],
      "text/plain": [
       "                     id  neg    neu    pos  compound       asins   brand  \\\n",
       "0  AVpe7AsMilAPnD_xQ78G  0.0  0.773  0.227    0.8908  B00QJDU3KY  Amazon   \n",
       "1  AVpe7AsMilAPnD_xQ78G  0.0  0.773  0.227    0.8908  B00QJDU3KY  Amazon   \n",
       "2  AVpe7AsMilAPnD_xQ78G  0.0  0.773  0.227    0.8908  B00QJDU3KY  Amazon   \n",
       "3  AVpe7AsMilAPnD_xQ78G  0.0  0.773  0.227    0.8908  B00QJDU3KY  Amazon   \n",
       "4  AVpe7AsMilAPnD_xQ78G  0.0  0.773  0.227    0.8908  B00QJDU3KY  Amazon   \n",
       "\n",
       "                   categories colors             dateAdded  ...  \\\n",
       "0  Amazon Devices,mazon.co.uk    NaN  2016-03-08T20:21:53Z  ...   \n",
       "1  Amazon Devices,mazon.co.uk    NaN  2016-03-08T20:21:53Z  ...   \n",
       "2  Amazon Devices,mazon.co.uk    NaN  2016-03-08T20:21:53Z  ...   \n",
       "3  Amazon Devices,mazon.co.uk    NaN  2016-03-08T20:21:53Z  ...   \n",
       "4  Amazon Devices,mazon.co.uk    NaN  2016-03-08T20:21:53Z  ...   \n",
       "\n",
       "  reviews.rating                                 reviews.sourceURLs  \\\n",
       "0            5.0  https://www.amazon.com/Kindle-Paperwhite-High-...   \n",
       "1            5.0  https://www.amazon.com/Kindle-Paperwhite-High-...   \n",
       "2            4.0  https://www.amazon.com/Kindle-Paperwhite-High-...   \n",
       "3            5.0  https://www.amazon.com/Kindle-Paperwhite-High-...   \n",
       "4            5.0  https://www.amazon.com/Kindle-Paperwhite-High-...   \n",
       "\n",
       "                                        reviews.text  \\\n",
       "0  I initially had trouble deciding between the p...   \n",
       "1  Allow me to preface this with a little history...   \n",
       "2  I am enjoying it so far. Great for reading. Ha...   \n",
       "3  I bought one of the first Paperwhites and have...   \n",
       "4  I have to say upfront - I don't like coroporat...   \n",
       "\n",
       "                                reviews.title reviews.userCity  \\\n",
       "0              Paperwhite voyage, no regrets!              NaN   \n",
       "1           One Simply Could Not Ask For More              NaN   \n",
       "2  Great for those that just want an e-reader              NaN   \n",
       "3                    Love / Hate relationship              NaN   \n",
       "4                                   I LOVE IT              NaN   \n",
       "\n",
       "  reviews.userProvince    reviews.username sizes upc     weight  \n",
       "0                  NaN          Cristina M   NaN NaN  205 grams  \n",
       "1                  NaN               Ricky   NaN NaN  205 grams  \n",
       "2                  NaN       Tedd Gardiner   NaN NaN  205 grams  \n",
       "3                  NaN              Dougal   NaN NaN  205 grams  \n",
       "4                  NaN  Miljan David Tanic   NaN NaN  205 grams  \n",
       "\n",
       "[5 rows x 31 columns]"
      ]
     },
     "execution_count": 21,
     "metadata": {},
     "output_type": "execute_result"
    }
   ],
   "source": [
    "# Now we hae sentiment score and metadata\n",
    "vaders.head()"
   ]
  },
  {
   "cell_type": "code",
   "execution_count": 22,
   "id": "31c3a922",
   "metadata": {
    "execution": {
     "iopub.execute_input": "2023-08-13T20:53:35.136427Z",
     "iopub.status.busy": "2023-08-13T20:53:35.135819Z",
     "iopub.status.idle": "2023-08-13T20:53:35.566900Z",
     "shell.execute_reply": "2023-08-13T20:53:35.566010Z"
    },
    "papermill": {
     "duration": 0.44913,
     "end_time": "2023-08-13T20:53:35.569486",
     "exception": false,
     "start_time": "2023-08-13T20:53:35.120356",
     "status": "completed"
    },
    "tags": []
   },
   "outputs": [
    {
     "data": {
      "image/png": "[encoded data removed]",
      "text/plain": [
       "<Figure size 640x480 with 1 Axes>"
      ]
     },
     "metadata": {},
     "output_type": "display_data"
    }
   ],
   "source": [
    "# Plot vaders results\n",
    "ax= sns.barplot(data=vaders, x= 'reviews.rating', y='compound')\n",
    "ax.set_title('Compound Score by Amazon Start Review')\n",
    "plt.show()"
   ]
  },
  {
   "cell_type": "code",
   "execution_count": 23,
   "id": "87facf25",
   "metadata": {
    "execution": {
     "iopub.execute_input": "2023-08-13T20:53:35.599886Z",
     "iopub.status.busy": "2023-08-13T20:53:35.599277Z",
     "iopub.status.idle": "2023-08-13T20:53:36.804859Z",
     "shell.execute_reply": "2023-08-13T20:53:36.803523Z"
    },
    "papermill": {
     "duration": 1.224208,
     "end_time": "2023-08-13T20:53:36.807696",
     "exception": false,
     "start_time": "2023-08-13T20:53:35.583488",
     "status": "completed"
    },
    "tags": []
   },
   "outputs": [
    {
     "data": {
      "image/png": "[encoded data removed]",
      "text/plain": [
       "<Figure size 1500x500 with 3 Axes>"
      ]
     },
     "metadata": {},
     "output_type": "display_data"
    }
   ],
   "source": [
    "fig, axs = plt.subplots(1, 3, figsize=(15,5))\n",
    "sns.barplot(data=vaders, x='reviews.rating', y='pos', ax=axs[0])\n",
    "sns.barplot(data=vaders, x='reviews.rating', y='neu', ax=axs[1])\n",
    "sns.barplot(data=vaders, x='reviews.rating', y='neg', ax=axs[2])\n",
    "axs[0].set_title('Positive')\n",
    "axs[1].set_title('Neutral')\n",
    "axs[2].set_title('Negative')\n",
    "plt.show()"
   ]
  },
  {
   "cell_type": "code",
   "execution_count": 24,
   "id": "299ba26c",
   "metadata": {
    "execution": {
     "iopub.execute_input": "2023-08-13T20:53:36.840180Z",
     "iopub.status.busy": "2023-08-13T20:53:36.839692Z",
     "iopub.status.idle": "2023-08-13T20:53:39.131090Z",
     "shell.execute_reply": "2023-08-13T20:53:39.129779Z"
    },
    "papermill": {
     "duration": 2.311045,
     "end_time": "2023-08-13T20:53:39.134192",
     "exception": false,
     "start_time": "2023-08-13T20:53:36.823147",
     "status": "completed"
    },
    "tags": []
   },
   "outputs": [],
   "source": [
    "# Roberta Pretrained Model\n",
    "from transformers import AutoTokenizer\n",
    "from transformers import AutoModelForSequenceClassification\n",
    "from scipy.special import softmax"
   ]
  },
  {
   "cell_type": "code",
   "execution_count": 25,
   "id": "d3bddd3a",
   "metadata": {
    "execution": {
     "iopub.execute_input": "2023-08-13T20:53:39.165277Z",
     "iopub.status.busy": "2023-08-13T20:53:39.164550Z",
     "iopub.status.idle": "2023-08-13T20:54:15.477056Z",
     "shell.execute_reply": "2023-08-13T20:54:15.475194Z"
    },
    "papermill": {
     "duration": 36.33138,
     "end_time": "2023-08-13T20:54:15.480363",
     "exception": false,
     "start_time": "2023-08-13T20:53:39.148983",
     "status": "completed"
    },
    "tags": []
   },
   "outputs": [
    {
     "name": "stdout",
     "output_type": "stream",
     "text": [
      "Requirement already satisfied: transformers in /opt/conda/lib/python3.10/site-packages (4.30.2)\r\n",
      "Requirement already satisfied: filelock in /opt/conda/lib/python3.10/site-packages (from transformers) (3.12.2)\r\n",
      "Requirement already satisfied: huggingface-hub<1.0,>=0.14.1 in /opt/conda/lib/python3.10/site-packages (from transformers) (0.16.4)\r\n",
      "Requirement already satisfied: numpy>=1.17 in /opt/conda/lib/python3.10/site-packages (from transformers) (1.23.5)\r\n",
      "Requirement already satisfied: packaging>=20.0 in /opt/conda/lib/python3.10/site-packages (from transformers) (21.3)\r\n",
      "Requirement already satisfied: pyyaml>=5.1 in /opt/conda/lib/python3.10/site-packages (from transformers) (6.0)\r\n",
      "Requirement already satisfied: regex!=2019.12.17 in /opt/conda/lib/python3.10/site-packages (from transformers) (2023.6.3)\r\n",
      "Requirement already satisfied: requests in /opt/conda/lib/python3.10/site-packages (from transformers) (2.31.0)\r\n",
      "Requirement already satisfied: tokenizers!=0.11.3,<0.14,>=0.11.1 in /opt/conda/lib/python3.10/site-packages (from transformers) (0.13.3)\r\n",
      "Requirement already satisfied: safetensors>=0.3.1 in /opt/conda/lib/python3.10/site-packages (from transformers) (0.3.1)\r\n",
      "Requirement already satisfied: tqdm>=4.27 in /opt/conda/lib/python3.10/site-packages (from transformers) (4.65.0)\r\n",
      "Requirement already satisfied: fsspec in /opt/conda/lib/python3.10/site-packages (from huggingface-hub<1.0,>=0.14.1->transformers) (2023.6.0)\r\n",
      "Requirement already satisfied: typing-extensions>=3.7.4.3 in /opt/conda/lib/python3.10/site-packages (from huggingface-hub<1.0,>=0.14.1->transformers) (4.6.3)\r\n",
      "Requirement already satisfied: pyparsing!=3.0.5,>=2.0.2 in /opt/conda/lib/python3.10/site-packages (from packaging>=20.0->transformers) (3.0.9)\r\n",
      "Requirement already satisfied: charset-normalizer<4,>=2 in /opt/conda/lib/python3.10/site-packages (from requests->transformers) (3.1.0)\r\n",
      "Requirement already satisfied: idna<4,>=2.5 in /opt/conda/lib/python3.10/site-packages (from requests->transformers) (3.4)\r\n",
      "Requirement already satisfied: urllib3<3,>=1.21.1 in /opt/conda/lib/python3.10/site-packages (from requests->transformers) (1.26.15)\r\n",
      "Requirement already satisfied: certifi>=2017.4.17 in /opt/conda/lib/python3.10/site-packages (from requests->transformers) (2023.5.7)\r\n",
      "Files removed: 7\r\n"
     ]
    }
   ],
   "source": [
    "#MODEL= f\"cardiffnlp/twitter-roberta-base-sentiment\"\n",
    "#tokeizer= AutoTokenizer.from_pretrained(MODEL)\n",
    "#model= AutoModelForSequenceCLassification.from_pretrained(MODEL)\n",
    "!pip install transformers\n",
    "!pip cache purge"
   ]
  },
  {
   "cell_type": "code",
   "execution_count": 26,
   "id": "f16e142a",
   "metadata": {
    "execution": {
     "iopub.execute_input": "2023-08-13T20:54:15.513613Z",
     "iopub.status.busy": "2023-08-13T20:54:15.513212Z",
     "iopub.status.idle": "2023-08-13T20:54:17.110861Z",
     "shell.execute_reply": "2023-08-13T20:54:17.108800Z"
    },
    "papermill": {
     "duration": 1.620466,
     "end_time": "2023-08-13T20:54:17.116110",
     "exception": false,
     "start_time": "2023-08-13T20:54:15.495644",
     "status": "completed"
    },
    "tags": []
   },
   "outputs": [
    {
     "name": "stdout",
     "output_type": "stream",
     "text": [
      "\u001b[33mWARNING: No matching packages\u001b[0m\u001b[33m\r\n",
      "\u001b[0mFiles removed: 0\r\n"
     ]
    }
   ],
   "source": [
    "!pip cache purge"
   ]
  },
  {
   "cell_type": "code",
   "execution_count": null,
   "id": "0b65cd6c",
   "metadata": {
    "papermill": {
     "duration": 0.015423,
     "end_time": "2023-08-13T20:54:17.146846",
     "exception": false,
     "start_time": "2023-08-13T20:54:17.131423",
     "status": "completed"
    },
    "tags": []
   },
   "outputs": [],
   "source": []
  }
 ],
 "metadata": {
  "kernelspec": {
   "display_name": "Python 3",
   "language": "python",
   "name": "python3"
  },
  "language_info": {
   "codemirror_mode": {
    "name": "ipython",
    "version": 3
   },
   "file_extension": ".py",
   "mimetype": "text/x-python",
   "name": "python",
   "nbconvert_exporter": "python",
   "pygments_lexer": "ipython3",
   "version": "3.10.12"
  },
  "papermill": {
   "default_parameters": {},
   "duration": 65.741919,
   "end_time": "2023-08-13T20:54:19.812894",
   "environment_variables": {},
   "exception": null,
   "input_path": "__notebook__.ipynb",
   "output_path": "__notebook__.ipynb",
   "parameters": {},
   "start_time": "2023-08-13T20:53:14.070975",
   "version": "2.4.0"
  },
  "widgets": {
   "application/vnd.jupyter.widget-state+json": {
    "state": {
     "1be646a69de442b991a7e5d900b81dad": {
      "model_module": "@jupyter-widgets/base",
      "model_module_version": "1.2.0",
      "model_name": "LayoutModel",
      "state": {
       "_model_module": "@jupyter-widgets/base",
       "_model_module_version": "1.2.0",
       "_model_name": "LayoutModel",
       "_view_count": null,
       "_view_module": "@jupyter-widgets/base",
       "_view_module_version": "1.2.0",
       "_view_name": "LayoutView",
       "align_content": null,
       "align_items": null,
       "align_self": null,
       "border": null,
       "bottom": null,
       "display": null,
       "flex": null,
       "flex_flow": null,
       "grid_area": null,
       "grid_auto_columns": null,
       "grid_auto_flow": null,
       "grid_auto_rows": null,
       "grid_column": null,
       "grid_gap": null,
       "grid_row": null,
       "grid_template_areas": null,
       "grid_template_columns": null,
       "grid_template_rows": null,
       "height": null,
       "justify_content": null,
       "justify_items": null,
       "left": null,
       "margin": null,
       "max_height": null,
       "max_width": null,
       "min_height": null,
       "min_width": null,
       "object_fit": null,
       "object_position": null,
       "order": null,
       "overflow": null,
       "overflow_x": null,
       "overflow_y": null,
       "padding": null,
       "right": null,
       "top": null,
       "visibility": null,
       "width": null
      }
     },
     "20635ed9738a4f33acb5b398feeec7a0": {
      "model_module": "@jupyter-widgets/base",
      "model_module_version": "1.2.0",
      "model_name": "LayoutModel",
      "state": {
       "_model_module": "@jupyter-widgets/base",
       "_model_module_version": "1.2.0",
       "_model_name": "LayoutModel",
       "_view_count": null,
       "_view_module": "@jupyter-widgets/base",
       "_view_module_version": "1.2.0",
       "_view_name": "LayoutView",
       "align_content": null,
       "align_items": null,
       "align_self": null,
       "border": null,
       "bottom": null,
       "display": null,
       "flex": null,
       "flex_flow": null,
       "grid_area": null,
       "grid_auto_columns": null,
       "grid_auto_flow": null,
       "grid_auto_rows": null,
       "grid_column": null,
       "grid_gap": null,
       "grid_row": null,
       "grid_template_areas": null,
       "grid_template_columns": null,
       "grid_template_rows": null,
       "height": null,
       "justify_content": null,
       "justify_items": null,
       "left": null,
       "margin": null,
       "max_height": null,
       "max_width": null,
       "min_height": null,
       "min_width": null,
       "object_fit": null,
       "object_position": null,
       "order": null,
       "overflow": null,
       "overflow_x": null,
       "overflow_y": null,
       "padding": null,
       "right": null,
       "top": null,
       "visibility": null,
       "width": null
      }
     },
     "4bc9e97c344941189cc58232c55941fa": {
      "model_module": "@jupyter-widgets/controls",
      "model_module_version": "1.5.0",
      "model_name": "HBoxModel",
      "state": {
       "_dom_classes": [],
       "_model_module": "@jupyter-widgets/controls",
       "_model_module_version": "1.5.0",
       "_model_name": "HBoxModel",
       "_view_count": null,
       "_view_module": "@jupyter-widgets/controls",
       "_view_module_version": "1.5.0",
       "_view_name": "HBoxView",
       "box_style": "",
       "children": [
        "IPY_MODEL_dc5b446530d94f5f9726c1bb781574af",
        "IPY_MODEL_75cd28955d144e05ac063b09aaf55e8f",
        "IPY_MODEL_63a36cc5b45f4f57afaca502eae0adc7"
       ],
       "layout": "IPY_MODEL_6df772023cf14bee9dffad91a8de4eca"
      }
     },
     "4c013314dc20425aa10cc2611c411e70": {
      "model_module": "@jupyter-widgets/controls",
      "model_module_version": "1.5.0",
      "model_name": "DescriptionStyleModel",
      "state": {
       "_model_module": "@jupyter-widgets/controls",
       "_model_module_version": "1.5.0",
       "_model_name": "DescriptionStyleModel",
       "_view_count": null,
       "_view_module": "@jupyter-widgets/base",
       "_view_module_version": "1.2.0",
       "_view_name": "StyleView",
       "description_width": ""
      }
     },
     "63a36cc5b45f4f57afaca502eae0adc7": {
      "model_module": "@jupyter-widgets/controls",
      "model_module_version": "1.5.0",
      "model_name": "HTMLModel",
      "state": {
       "_dom_classes": [],
       "_model_module": "@jupyter-widgets/controls",
       "_model_module_version": "1.5.0",
       "_model_name": "HTMLModel",
       "_view_count": null,
       "_view_module": "@jupyter-widgets/controls",
       "_view_module_version": "1.5.0",
       "_view_name": "HTMLView",
       "description": "",
       "description_tooltip": null,
       "layout": "IPY_MODEL_cb7b600997e140db95afd58167e717c3",
       "placeholder": "​",
       "style": "IPY_MODEL_e58cef76d6384f38b4547b7f4f6e6aec",
       "value": " 1597/1597 [00:04&lt;00:00, 351.37it/s]"
      }
     },
     "6df772023cf14bee9dffad91a8de4eca": {
      "model_module": "@jupyter-widgets/base",
      "model_module_version": "1.2.0",
      "model_name": "LayoutModel",
      "state": {
       "_model_module": "@jupyter-widgets/base",
       "_model_module_version": "1.2.0",
       "_model_name": "LayoutModel",
       "_view_count": null,
       "_view_module": "@jupyter-widgets/base",
       "_view_module_version": "1.2.0",
       "_view_name": "LayoutView",
       "align_content": null,
       "align_items": null,
       "align_self": null,
       "border": null,
       "bottom": null,
       "display": null,
       "flex": null,
       "flex_flow": null,
       "grid_area": null,
       "grid_auto_columns": null,
       "grid_auto_flow": null,
       "grid_auto_rows": null,
       "grid_column": null,
       "grid_gap": null,
       "grid_row": null,
       "grid_template_areas": null,
       "grid_template_columns": null,
       "grid_template_rows": null,
       "height": null,
       "justify_content": null,
       "justify_items": null,
       "left": null,
       "margin": null,
       "max_height": null,
       "max_width": null,
       "min_height": null,
       "min_width": null,
       "object_fit": null,
       "object_position": null,
       "order": null,
       "overflow": null,
       "overflow_x": null,
       "overflow_y": null,
       "padding": null,
       "right": null,
       "top": null,
       "visibility": null,
       "width": null
      }
     },
     "75cd28955d144e05ac063b09aaf55e8f": {
      "model_module": "@jupyter-widgets/controls",
      "model_module_version": "1.5.0",
      "model_name": "FloatProgressModel",
      "state": {
       "_dom_classes": [],
       "_model_module": "@jupyter-widgets/controls",
       "_model_module_version": "1.5.0",
       "_model_name": "FloatProgressModel",
       "_view_count": null,
       "_view_module": "@jupyter-widgets/controls",
       "_view_module_version": "1.5.0",
       "_view_name": "ProgressView",
       "bar_style": "success",
       "description": "",
       "description_tooltip": null,
       "layout": "IPY_MODEL_20635ed9738a4f33acb5b398feeec7a0",
       "max": 1597.0,
       "min": 0.0,
       "orientation": "horizontal",
       "style": "IPY_MODEL_d8a1f4d6174645a5b50a91640ec5d310",
       "value": 1597.0
      }
     },
     "cb7b600997e140db95afd58167e717c3": {
      "model_module": "@jupyter-widgets/base",
      "model_module_version": "1.2.0",
      "model_name": "LayoutModel",
      "state": {
       "_model_module": "@jupyter-widgets/base",
       "_model_module_version": "1.2.0",
       "_model_name": "LayoutModel",
       "_view_count": null,
       "_view_module": "@jupyter-widgets/base",
       "_view_module_version": "1.2.0",
       "_view_name": "LayoutView",
       "align_content": null,
       "align_items": null,
       "align_self": null,
       "border": null,
       "bottom": null,
       "display": null,
       "flex": null,
       "flex_flow": null,
       "grid_area": null,
       "grid_auto_columns": null,
       "grid_auto_flow": null,
       "grid_auto_rows": null,
       "grid_column": null,
       "grid_gap": null,
       "grid_row": null,
       "grid_template_areas": null,
       "grid_template_columns": null,
       "grid_template_rows": null,
       "height": null,
       "justify_content": null,
       "justify_items": null,
       "left": null,
       "margin": null,
       "max_height": null,
       "max_width": null,
       "min_height": null,
       "min_width": null,
       "object_fit": null,
       "object_position": null,
       "order": null,
       "overflow": null,
       "overflow_x": null,
       "overflow_y": null,
       "padding": null,
       "right": null,
       "top": null,
       "visibility": null,
       "width": null
      }
     },
     "d8a1f4d6174645a5b50a91640ec5d310": {
      "model_module": "@jupyter-widgets/controls",
      "model_module_version": "1.5.0",
      "model_name": "ProgressStyleModel",
      "state": {
       "_model_module": "@jupyter-widgets/controls",
       "_model_module_version": "1.5.0",
       "_model_name": "ProgressStyleModel",
       "_view_count": null,
       "_view_module": "@jupyter-widgets/base",
       "_view_module_version": "1.2.0",
       "_view_name": "StyleView",
       "bar_color": null,
       "description_width": ""
      }
     },
     "dc5b446530d94f5f9726c1bb781574af": {
      "model_module": "@jupyter-widgets/controls",
      "model_module_version": "1.5.0",
      "model_name": "HTMLModel",
      "state": {
       "_dom_classes": [],
       "_model_module": "@jupyter-widgets/controls",
       "_model_module_version": "1.5.0",
       "_model_name": "HTMLModel",
       "_view_count": null,
       "_view_module": "@jupyter-widgets/controls",
       "_view_module_version": "1.5.0",
       "_view_name": "HTMLView",
       "description": "",
       "description_tooltip": null,
       "layout": "IPY_MODEL_1be646a69de442b991a7e5d900b81dad",
       "placeholder": "​",
       "style": "IPY_MODEL_4c013314dc20425aa10cc2611c411e70",
       "value": "100%"
      }
     },
     "e58cef76d6384f38b4547b7f4f6e6aec": {
      "model_module": "@jupyter-widgets/controls",
      "model_module_version": "1.5.0",
      "model_name": "DescriptionStyleModel",
      "state": {
       "_model_module": "@jupyter-widgets/controls",
       "_model_module_version": "1.5.0",
       "_model_name": "DescriptionStyleModel",
       "_view_count": null,
       "_view_module": "@jupyter-widgets/base",
       "_view_module_version": "1.2.0",
       "_view_name": "StyleView",
       "description_width": ""
      }
     }
    },
    "version_major": 2,
    "version_minor": 0
   }
  }
 },
 "nbformat": 4,
 "nbformat_minor": 5
}
